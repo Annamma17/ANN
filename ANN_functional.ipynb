{
  "nbformat": 4,
  "nbformat_minor": 0,
  "metadata": {
    "colab": {
      "name": "ANN_functional.ipynb",
      "provenance": [],
      "collapsed_sections": [],
      "authorship_tag": "ABX9TyM6CH9+KZXdq6KoUzzRSSXL"
    },
    "kernelspec": {
      "name": "python3",
      "display_name": "Python 3"
    },
    "language_info": {
      "name": "python"
    }
  },
  "cells": [
    {
      "cell_type": "code",
      "metadata": {
        "id": "0TB3nkRYbPGT"
      },
      "source": [
        "import numpy as np\n",
        "import pandas as pd\n",
        "%matplotlib inline\n",
        "import matplotlib as mpl\n",
        "import matplotlib.pyplot as plt"
      ],
      "execution_count": 1,
      "outputs": []
    },
    {
      "cell_type": "code",
      "metadata": {
        "id": "0oKbBPRgbejQ"
      },
      "source": [
        "import tensorflow as tf\n",
        "from tensorflow import keras"
      ],
      "execution_count": 2,
      "outputs": []
    },
    {
      "cell_type": "code",
      "metadata": {
        "colab": {
          "base_uri": "https://localhost:8080/"
        },
        "id": "IQHAWtejbvVB",
        "outputId": "4818a365-b16c-4ff9-d480-fce5834f6c63"
      },
      "source": [
        "from sklearn.datasets import fetch_california_housing\n",
        "housing=fetch_california_housing()"
      ],
      "execution_count": 4,
      "outputs": [
        {
          "output_type": "stream",
          "text": [
            "Downloading Cal. housing from https://ndownloader.figshare.com/files/5976036 to /root/scikit_learn_data\n"
          ],
          "name": "stderr"
        }
      ]
    },
    {
      "cell_type": "code",
      "metadata": {
        "id": "yhOpBGYHb4Ys"
      },
      "source": [
        "from sklearn.model_selection import train_test_split\n",
        "X_train_full, X_test, y_train_full, y_test = train_test_split(housing.data, housing.target, random_state=42)\n",
        "X_train, X_valid, y_train, y_valid = train_test_split(X_train_full, y_train_full, random_state=42)"
      ],
      "execution_count": 5,
      "outputs": []
    },
    {
      "cell_type": "code",
      "metadata": {
        "id": "pFnxttS1cDPi"
      },
      "source": [
        "from sklearn.preprocessing import StandardScaler\n",
        "scaler = StandardScaler()\n",
        "X_train = scaler.fit_transform(X_train)\n",
        "X_valid = scaler.transform(X_valid)\n",
        "X_test = scaler.transform(X_test)"
      ],
      "execution_count": 6,
      "outputs": []
    },
    {
      "cell_type": "code",
      "metadata": {
        "id": "uqj1tX0VcJ-Z"
      },
      "source": [
        "np.random.seed(42)\n",
        "tf.random.set_seed(42)"
      ],
      "execution_count": 7,
      "outputs": []
    },
    {
      "cell_type": "code",
      "metadata": {
        "id": "25Y4txREcM6h"
      },
      "source": [
        "input_=keras.layers.Input(shape=X_train.shape[1:])\n",
        "hidden1=keras.layers.Dense(30,activation=\"relu\")(input_)\n",
        "hidden2=keras.layers.Dense(30,activation=\"relu\")(hidden1)\n",
        "concat=keras.layers.concatenate([input_,hidden2])\n",
        "output=keras.layers.Dense(1)(concat)\n",
        "model=keras.models.Model(inputs=[input_],outputs=[output])"
      ],
      "execution_count": 10,
      "outputs": []
    },
    {
      "cell_type": "code",
      "metadata": {
        "colab": {
          "base_uri": "https://localhost:8080/"
        },
        "id": "gObzPqALdmS-",
        "outputId": "26625581-efc6-4bf5-f73b-71b4f3be4261"
      },
      "source": [
        "model.summary()"
      ],
      "execution_count": 11,
      "outputs": [
        {
          "output_type": "stream",
          "text": [
            "Model: \"model\"\n",
            "__________________________________________________________________________________________________\n",
            "Layer (type)                    Output Shape         Param #     Connected to                     \n",
            "==================================================================================================\n",
            "input_3 (InputLayer)            [(None, 8)]          0                                            \n",
            "__________________________________________________________________________________________________\n",
            "dense_6 (Dense)                 (None, 30)           270         input_3[0][0]                    \n",
            "__________________________________________________________________________________________________\n",
            "dense_7 (Dense)                 (None, 30)           930         dense_6[0][0]                    \n",
            "__________________________________________________________________________________________________\n",
            "concatenate_2 (Concatenate)     (None, 38)           0           input_3[0][0]                    \n",
            "                                                                 dense_7[0][0]                    \n",
            "__________________________________________________________________________________________________\n",
            "dense_8 (Dense)                 (None, 1)            39          concatenate_2[0][0]              \n",
            "==================================================================================================\n",
            "Total params: 1,239\n",
            "Trainable params: 1,239\n",
            "Non-trainable params: 0\n",
            "__________________________________________________________________________________________________\n"
          ],
          "name": "stdout"
        }
      ]
    },
    {
      "cell_type": "code",
      "metadata": {
        "colab": {
          "base_uri": "https://localhost:8080/"
        },
        "id": "7fnBZTpRd2rM",
        "outputId": "91018be6-3999-4c1b-8336-1e4f210b9a4e"
      },
      "source": [
        "model.compile(loss=\"mean_squared_error\", \n",
        "              optimizer=keras.optimizers.SGD(lr=1e-3), \n",
        "              metrics=['mae'])"
      ],
      "execution_count": 12,
      "outputs": [
        {
          "output_type": "stream",
          "text": [
            "/usr/local/lib/python3.7/dist-packages/tensorflow/python/keras/optimizer_v2/optimizer_v2.py:375: UserWarning: The `lr` argument is deprecated, use `learning_rate` instead.\n",
            "  \"The `lr` argument is deprecated, use `learning_rate` instead.\")\n"
          ],
          "name": "stderr"
        }
      ]
    },
    {
      "cell_type": "code",
      "metadata": {
        "colab": {
          "base_uri": "https://localhost:8080/"
        },
        "id": "ej8zw1B8eGs3",
        "outputId": "f5a8ce41-aa73-48ed-e57a-15afda92fbd7"
      },
      "source": [
        "model_history = model.fit(X_train, y_train, epochs=40, validation_data=(X_valid, y_valid))"
      ],
      "execution_count": 17,
      "outputs": [
        {
          "output_type": "stream",
          "text": [
            "Epoch 1/40\n",
            "363/363 [==============================] - 1s 2ms/step - loss: 0.3662 - mae: 0.4330 - val_loss: 0.3596 - val_mae: 0.4205\n",
            "Epoch 2/40\n",
            "363/363 [==============================] - 1s 2ms/step - loss: 0.3650 - mae: 0.4320 - val_loss: 0.4056 - val_mae: 0.4274\n",
            "Epoch 3/40\n",
            "363/363 [==============================] - 1s 1ms/step - loss: 0.3642 - mae: 0.4320 - val_loss: 0.3878 - val_mae: 0.4213\n",
            "Epoch 4/40\n",
            "363/363 [==============================] - 1s 1ms/step - loss: 0.3633 - mae: 0.4308 - val_loss: 0.3550 - val_mae: 0.4213\n",
            "Epoch 5/40\n",
            "363/363 [==============================] - 1s 2ms/step - loss: 0.3623 - mae: 0.4299 - val_loss: 0.3476 - val_mae: 0.4188\n",
            "Epoch 6/40\n",
            "363/363 [==============================] - 1s 2ms/step - loss: 0.3611 - mae: 0.4298 - val_loss: 0.3716 - val_mae: 0.4185\n",
            "Epoch 7/40\n",
            "363/363 [==============================] - 1s 2ms/step - loss: 0.3605 - mae: 0.4287 - val_loss: 0.3586 - val_mae: 0.4188\n",
            "Epoch 8/40\n",
            "363/363 [==============================] - 1s 1ms/step - loss: 0.3596 - mae: 0.4282 - val_loss: 0.3409 - val_mae: 0.4154\n",
            "Epoch 9/40\n",
            "363/363 [==============================] - 1s 1ms/step - loss: 0.3586 - mae: 0.4278 - val_loss: 0.3548 - val_mae: 0.4155\n",
            "Epoch 10/40\n",
            "363/363 [==============================] - 1s 1ms/step - loss: 0.3576 - mae: 0.4268 - val_loss: 0.3815 - val_mae: 0.4170\n",
            "Epoch 11/40\n",
            "363/363 [==============================] - 1s 2ms/step - loss: 0.3572 - mae: 0.4263 - val_loss: 0.3363 - val_mae: 0.4137\n",
            "Epoch 12/40\n",
            "363/363 [==============================] - 1s 2ms/step - loss: 0.3561 - mae: 0.4255 - val_loss: 0.3853 - val_mae: 0.4171\n",
            "Epoch 13/40\n",
            "363/363 [==============================] - 1s 2ms/step - loss: 0.3554 - mae: 0.4249 - val_loss: 0.3653 - val_mae: 0.4180\n",
            "Epoch 14/40\n",
            "363/363 [==============================] - 1s 2ms/step - loss: 0.3547 - mae: 0.4243 - val_loss: 0.3396 - val_mae: 0.4143\n",
            "Epoch 15/40\n",
            "363/363 [==============================] - 1s 2ms/step - loss: 0.3538 - mae: 0.4238 - val_loss: 0.3494 - val_mae: 0.4148\n",
            "Epoch 16/40\n",
            "363/363 [==============================] - 1s 2ms/step - loss: 0.3532 - mae: 0.4238 - val_loss: 0.3388 - val_mae: 0.4132\n",
            "Epoch 17/40\n",
            "363/363 [==============================] - 1s 1ms/step - loss: 0.3525 - mae: 0.4230 - val_loss: 0.3602 - val_mae: 0.4139\n",
            "Epoch 18/40\n",
            "363/363 [==============================] - 1s 2ms/step - loss: 0.3519 - mae: 0.4224 - val_loss: 0.3574 - val_mae: 0.4127\n",
            "Epoch 19/40\n",
            "363/363 [==============================] - 1s 2ms/step - loss: 0.3510 - mae: 0.4217 - val_loss: 0.3438 - val_mae: 0.4112\n",
            "Epoch 20/40\n",
            "363/363 [==============================] - 1s 2ms/step - loss: 0.3505 - mae: 0.4210 - val_loss: 0.3851 - val_mae: 0.4158\n",
            "Epoch 21/40\n",
            "363/363 [==============================] - 1s 2ms/step - loss: 0.3500 - mae: 0.4208 - val_loss: 0.3577 - val_mae: 0.4147\n",
            "Epoch 22/40\n",
            "363/363 [==============================] - 1s 1ms/step - loss: 0.3491 - mae: 0.4206 - val_loss: 0.3858 - val_mae: 0.4174\n",
            "Epoch 23/40\n",
            "363/363 [==============================] - 1s 1ms/step - loss: 0.3488 - mae: 0.4206 - val_loss: 0.3273 - val_mae: 0.4049\n",
            "Epoch 24/40\n",
            "363/363 [==============================] - 1s 2ms/step - loss: 0.3480 - mae: 0.4192 - val_loss: 0.3498 - val_mae: 0.4103\n",
            "Epoch 25/40\n",
            "363/363 [==============================] - 1s 1ms/step - loss: 0.3473 - mae: 0.4194 - val_loss: 0.3754 - val_mae: 0.4115\n",
            "Epoch 26/40\n",
            "363/363 [==============================] - 1s 2ms/step - loss: 0.3469 - mae: 0.4187 - val_loss: 0.3646 - val_mae: 0.4114\n",
            "Epoch 27/40\n",
            "363/363 [==============================] - 1s 2ms/step - loss: 0.3466 - mae: 0.4185 - val_loss: 0.3260 - val_mae: 0.4061\n",
            "Epoch 28/40\n",
            "363/363 [==============================] - 1s 2ms/step - loss: 0.3459 - mae: 0.4176 - val_loss: 0.3469 - val_mae: 0.4109\n",
            "Epoch 29/40\n",
            "363/363 [==============================] - 1s 2ms/step - loss: 0.3454 - mae: 0.4175 - val_loss: 0.3376 - val_mae: 0.4094\n",
            "Epoch 30/40\n",
            "363/363 [==============================] - 1s 1ms/step - loss: 0.3446 - mae: 0.4171 - val_loss: 0.3691 - val_mae: 0.4099\n",
            "Epoch 31/40\n",
            "363/363 [==============================] - 1s 1ms/step - loss: 0.3441 - mae: 0.4163 - val_loss: 0.3469 - val_mae: 0.4076\n",
            "Epoch 32/40\n",
            "363/363 [==============================] - 1s 1ms/step - loss: 0.3435 - mae: 0.4159 - val_loss: 0.3680 - val_mae: 0.4133\n",
            "Epoch 33/40\n",
            "363/363 [==============================] - 1s 2ms/step - loss: 0.3435 - mae: 0.4163 - val_loss: 0.3300 - val_mae: 0.4069\n",
            "Epoch 34/40\n",
            "363/363 [==============================] - 1s 2ms/step - loss: 0.3427 - mae: 0.4154 - val_loss: 0.3266 - val_mae: 0.4053\n",
            "Epoch 35/40\n",
            "363/363 [==============================] - 1s 2ms/step - loss: 0.3421 - mae: 0.4148 - val_loss: 0.3631 - val_mae: 0.4121\n",
            "Epoch 36/40\n",
            "363/363 [==============================] - 1s 1ms/step - loss: 0.3419 - mae: 0.4151 - val_loss: 0.3214 - val_mae: 0.4030\n",
            "Epoch 37/40\n",
            "363/363 [==============================] - 1s 2ms/step - loss: 0.3413 - mae: 0.4142 - val_loss: 0.3348 - val_mae: 0.4069\n",
            "Epoch 38/40\n",
            "363/363 [==============================] - 1s 1ms/step - loss: 0.3409 - mae: 0.4139 - val_loss: 0.3297 - val_mae: 0.4058\n",
            "Epoch 39/40\n",
            "363/363 [==============================] - 1s 2ms/step - loss: 0.3404 - mae: 0.4140 - val_loss: 0.3246 - val_mae: 0.4029\n",
            "Epoch 40/40\n",
            "363/363 [==============================] - 1s 1ms/step - loss: 0.3399 - mae: 0.4133 - val_loss: 0.3396 - val_mae: 0.4032\n"
          ],
          "name": "stdout"
        }
      ]
    },
    {
      "cell_type": "code",
      "metadata": {
        "colab": {
          "base_uri": "https://localhost:8080/"
        },
        "id": "Mhx5MqBneMkG",
        "outputId": "d6966d8c-15f7-41c6-f4a6-23a40fc48cf5"
      },
      "source": [
        "mae_test = model.evaluate(X_test, y_test)"
      ],
      "execution_count": 18,
      "outputs": [
        {
          "output_type": "stream",
          "text": [
            "162/162 [==============================] - 0s 871us/step - loss: 0.3467 - mae: 0.4133\n"
          ],
          "name": "stdout"
        }
      ]
    },
    {
      "cell_type": "code",
      "metadata": {
        "colab": {
          "base_uri": "https://localhost:8080/"
        },
        "id": "eLml1m4jeiok",
        "outputId": "7aa5445f-f25e-423f-dc7c-553d090ac994"
      },
      "source": [
        "model_history.history"
      ],
      "execution_count": 15,
      "outputs": [
        {
          "output_type": "execute_result",
          "data": {
            "text/plain": [
              "{'loss': [1.842244029045105,\n",
              "  0.7257976531982422,\n",
              "  0.6472155451774597,\n",
              "  0.5944114923477173,\n",
              "  0.5538226366043091,\n",
              "  0.5217078924179077,\n",
              "  0.4970484972000122,\n",
              "  0.4783681333065033,\n",
              "  0.46334925293922424,\n",
              "  0.4515114724636078,\n",
              "  0.4425385594367981,\n",
              "  0.43484771251678467,\n",
              "  0.42868027091026306,\n",
              "  0.42320820689201355,\n",
              "  0.418521910905838,\n",
              "  0.41442161798477173,\n",
              "  0.4107412099838257,\n",
              "  0.4075146019458771,\n",
              "  0.40391743183135986,\n",
              "  0.4012852907180786,\n",
              "  0.39877963066101074,\n",
              "  0.3959878385066986,\n",
              "  0.3939673900604248,\n",
              "  0.39152130484580994,\n",
              "  0.3891400098800659,\n",
              "  0.38755571842193604,\n",
              "  0.38585254549980164,\n",
              "  0.38389331102371216,\n",
              "  0.38226041197776794,\n",
              "  0.38028907775878906,\n",
              "  0.37883222103118896,\n",
              "  0.3772086203098297,\n",
              "  0.3765202760696411,\n",
              "  0.3746984899044037,\n",
              "  0.3732829689979553,\n",
              "  0.3722652792930603,\n",
              "  0.3708628714084625,\n",
              "  0.3696014881134033,\n",
              "  0.36847376823425293,\n",
              "  0.3672168552875519],\n",
              " 'mae': [0.9134849905967712,\n",
              "  0.6194171905517578,\n",
              "  0.5834541916847229,\n",
              "  0.5572080016136169,\n",
              "  0.536125123500824,\n",
              "  0.5201269388198853,\n",
              "  0.5070964097976685,\n",
              "  0.4967614412307739,\n",
              "  0.489454984664917,\n",
              "  0.48322612047195435,\n",
              "  0.477959543466568,\n",
              "  0.47430792450904846,\n",
              "  0.4710310101509094,\n",
              "  0.4680241346359253,\n",
              "  0.4659983515739441,\n",
              "  0.46420422196388245,\n",
              "  0.46178609132766724,\n",
              "  0.46003562211990356,\n",
              "  0.4576849937438965,\n",
              "  0.45602479577064514,\n",
              "  0.45460742712020874,\n",
              "  0.4532853960990906,\n",
              "  0.45203426480293274,\n",
              "  0.4498147666454315,\n",
              "  0.44920891523361206,\n",
              "  0.4478045403957367,\n",
              "  0.4464471638202667,\n",
              "  0.4450477659702301,\n",
              "  0.44427555799484253,\n",
              "  0.44312813878059387,\n",
              "  0.44185763597488403,\n",
              "  0.4406811594963074,\n",
              "  0.4406130611896515,\n",
              "  0.43914464116096497,\n",
              "  0.43813514709472656,\n",
              "  0.43766796588897705,\n",
              "  0.4362380802631378,\n",
              "  0.4357544183731079,\n",
              "  0.43524670600891113,\n",
              "  0.434173583984375],\n",
              " 'val_loss': [1.74790620803833,\n",
              "  0.7584145069122314,\n",
              "  0.6156330704689026,\n",
              "  0.5441513061523438,\n",
              "  0.5013412833213806,\n",
              "  0.4748631715774536,\n",
              "  0.4519355297088623,\n",
              "  0.43986040353775024,\n",
              "  0.42881250381469727,\n",
              "  0.43162620067596436,\n",
              "  0.413188099861145,\n",
              "  0.43534624576568604,\n",
              "  0.43093380331993103,\n",
              "  0.4024724066257477,\n",
              "  0.41144859790802,\n",
              "  0.4002145826816559,\n",
              "  0.41882628202438354,\n",
              "  0.41731494665145874,\n",
              "  0.39695507287979126,\n",
              "  0.45535945892333984,\n",
              "  0.4178171157836914,\n",
              "  0.44981563091278076,\n",
              "  0.36766329407691956,\n",
              "  0.3935748040676117,\n",
              "  0.4368530511856079,\n",
              "  0.4155828356742859,\n",
              "  0.36109134554862976,\n",
              "  0.39065706729888916,\n",
              "  0.37707969546318054,\n",
              "  0.4260685443878174,\n",
              "  0.39110517501831055,\n",
              "  0.41944465041160583,\n",
              "  0.3644653856754303,\n",
              "  0.35790586471557617,\n",
              "  0.4033765494823456,\n",
              "  0.3487597107887268,\n",
              "  0.3663707375526428,\n",
              "  0.3600608706474304,\n",
              "  0.35109424591064453,\n",
              "  0.3709978461265564],\n",
              " 'val_mae': [0.646073579788208,\n",
              "  0.588377833366394,\n",
              "  0.5509442687034607,\n",
              "  0.5291006565093994,\n",
              "  0.5067248940467834,\n",
              "  0.4917597770690918,\n",
              "  0.4811427891254425,\n",
              "  0.4731101095676422,\n",
              "  0.46642762422561646,\n",
              "  0.46197763085365295,\n",
              "  0.4592704176902771,\n",
              "  0.45708566904067993,\n",
              "  0.45731785893440247,\n",
              "  0.4535888731479645,\n",
              "  0.45089876651763916,\n",
              "  0.448877215385437,\n",
              "  0.4472718834877014,\n",
              "  0.4451841413974762,\n",
              "  0.44222259521484375,\n",
              "  0.4467012286186218,\n",
              "  0.44471868872642517,\n",
              "  0.44559043645858765,\n",
              "  0.4323931634426117,\n",
              "  0.43616291880607605,\n",
              "  0.4378383457660675,\n",
              "  0.435870498418808,\n",
              "  0.4305829107761383,\n",
              "  0.43488460779190063,\n",
              "  0.43245959281921387,\n",
              "  0.4333344101905823,\n",
              "  0.4298478662967682,\n",
              "  0.43561068177223206,\n",
              "  0.42818257212638855,\n",
              "  0.4264083504676819,\n",
              "  0.43136727809906006,\n",
              "  0.4223121702671051,\n",
              "  0.42627057433128357,\n",
              "  0.4245022237300873,\n",
              "  0.42106887698173523,\n",
              "  0.4211185574531555]}"
            ]
          },
          "metadata": {
            "tags": []
          },
          "execution_count": 15
        }
      ]
    },
    {
      "cell_type": "code",
      "metadata": {
        "colab": {
          "base_uri": "https://localhost:8080/",
          "height": 324
        },
        "id": "f-pLPCyIek02",
        "outputId": "98895280-3a05-4fdf-aae6-0495d40d3244"
      },
      "source": [
        "pd.DataFrame(model_history.history).plot(figsize=(8, 5))\n",
        "plt.grid(True)\n",
        "plt.gca().set_ylim(0, 1)\n",
        "\n",
        "plt.show()"
      ],
      "execution_count": 19,
      "outputs": [
        {
          "output_type": "display_data",
          "data": {
            "image/png": "[encoded data removed]",
            "text/plain": [
              "<Figure size 576x360 with 1 Axes>"
            ]
          },
          "metadata": {
            "tags": [],
            "needs_background": "light"
          }
        }
      ]
    },
    {
      "cell_type": "code",
      "metadata": {
        "id": "8RF2hYLGeoMO"
      },
      "source": [
        ""
      ],
      "execution_count": null,
      "outputs": []
    }
  ]
}