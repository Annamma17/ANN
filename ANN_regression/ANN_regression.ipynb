{
  "nbformat": 4,
  "nbformat_minor": 0,
  "metadata": {
    "colab": {
      "name": "ANN_regression.ipynb",
      "provenance": []
    },
    "kernelspec": {
      "name": "python3",
      "display_name": "Python 3"
    },
    "language_info": {
      "name": "python"
    }
  },
  "cells": [
    {
      "cell_type": "code",
      "metadata": {
        "id": "SwOg9610RGxW"
      },
      "source": [
        "import numpy as np\n",
        "import pandas as pd\n",
        "%matplotlib inline\n",
        "import matplotlib as mpl\n",
        "import matplotlib.pyplot as plt"
      ],
      "execution_count": 5,
      "outputs": []
    },
    {
      "cell_type": "code",
      "metadata": {
        "id": "VHAxjcpOTAGs"
      },
      "source": [
        "import tensorflow as tf\n",
        "from tensorflow import keras"
      ],
      "execution_count": 2,
      "outputs": []
    },
    {
      "cell_type": "code",
      "metadata": {
        "id": "649iMsidTCmk"
      },
      "source": [
        "from sklearn.datasets import fetch_california_housing\n",
        "housing = fetch_california_housing()"
      ],
      "execution_count": 4,
      "outputs": []
    },
    {
      "cell_type": "code",
      "metadata": {
        "colab": {
          "base_uri": "https://localhost:8080/"
        },
        "id": "sgaOBg0NTKE-",
        "outputId": "18e4f2fe-190e-4d26-e4d0-6a138bc1f9a4"
      },
      "source": [
        "print(housing.feature_names)"
      ],
      "execution_count": 7,
      "outputs": [
        {
          "output_type": "stream",
          "text": [
            "['MedInc', 'HouseAge', 'AveRooms', 'AveBedrms', 'Population', 'AveOccup', 'Latitude', 'Longitude']\n"
          ],
          "name": "stdout"
        }
      ]
    },
    {
      "cell_type": "code",
      "metadata": {
        "id": "pBtH7NCsTo9V"
      },
      "source": [
        "from sklearn.model_selection import train_test_split\n",
        "X_train_full, X_test, y_train_full, y_test = train_test_split(housing.data, housing.target, random_state=42)\n",
        "X_train, X_valid, y_train, y_valid = train_test_split(X_train_full, y_train_full, random_state=42)"
      ],
      "execution_count": 8,
      "outputs": []
    },
    {
      "cell_type": "code",
      "metadata": {
        "id": "ZEb1ouB1RXmC"
      },
      "source": [
        "from sklearn.preprocessing import StandardScaler\n",
        "scaler = StandardScaler()\n",
        "X_train = scaler.fit_transform(X_train)\n",
        "X_valid = scaler.transform(X_valid)\n",
        "X_test = scaler.transform(X_test)"
      ],
      "execution_count": 9,
      "outputs": []
    },
    {
      "cell_type": "code",
      "metadata": {
        "id": "RuFnFcQhUj8z"
      },
      "source": [
        "np.random.seed(42)\n",
        "tf.random.set_seed(42)"
      ],
      "execution_count": 10,
      "outputs": []
    },
    {
      "cell_type": "code",
      "metadata": {
        "colab": {
          "base_uri": "https://localhost:8080/"
        },
        "id": "JhfQwQjeUt_8",
        "outputId": "97c6f2b7-bd97-4c5f-e568-ddeeb2a7e637"
      },
      "source": [
        "X_train.shape"
      ],
      "execution_count": 11,
      "outputs": [
        {
          "output_type": "execute_result",
          "data": {
            "text/plain": [
              "(11610, 8)"
            ]
          },
          "metadata": {
            "tags": []
          },
          "execution_count": 11
        }
      ]
    },
    {
      "cell_type": "code",
      "metadata": {
        "id": "uY5Q0lc-Uy6S"
      },
      "source": [
        "model = keras.models.Sequential([\n",
        "    keras.layers.Dense(30, activation=\"relu\", input_shape=[8]),\n",
        "    keras.layers.Dense(30, activation=\"relu\"),\n",
        "    keras.layers.Dense(1)\n",
        "])"
      ],
      "execution_count": 12,
      "outputs": []
    },
    {
      "cell_type": "code",
      "metadata": {
        "colab": {
          "base_uri": "https://localhost:8080/"
        },
        "id": "7p00guMuVfIS",
        "outputId": "b30732a1-2d49-466e-e4dc-a292d6bebcb4"
      },
      "source": [
        "model.summary()"
      ],
      "execution_count": 14,
      "outputs": [
        {
          "output_type": "stream",
          "text": [
            "Model: \"sequential\"\n",
            "_________________________________________________________________\n",
            "Layer (type)                 Output Shape              Param #   \n",
            "=================================================================\n",
            "dense (Dense)                (None, 30)                270       \n",
            "_________________________________________________________________\n",
            "dense_1 (Dense)              (None, 30)                930       \n",
            "_________________________________________________________________\n",
            "dense_2 (Dense)              (None, 1)                 31        \n",
            "=================================================================\n",
            "Total params: 1,231\n",
            "Trainable params: 1,231\n",
            "Non-trainable params: 0\n",
            "_________________________________________________________________\n"
          ],
          "name": "stdout"
        }
      ]
    },
    {
      "cell_type": "code",
      "metadata": {
        "id": "LKCpq-BuRXmF",
        "colab": {
          "base_uri": "https://localhost:8080/"
        },
        "outputId": "9c1e0bc3-4e8e-458c-b740-d971af7f377a"
      },
      "source": [
        "model.compile(loss=\"mean_squared_error\", \n",
        "              optimizer=keras.optimizers.SGD(lr=1e-3), \n",
        "              metrics=['mae'])"
      ],
      "execution_count": 15,
      "outputs": [
        {
          "output_type": "stream",
          "text": [
            "/usr/local/lib/python3.7/dist-packages/tensorflow/python/keras/optimizer_v2/optimizer_v2.py:375: UserWarning: The `lr` argument is deprecated, use `learning_rate` instead.\n",
            "  \"The `lr` argument is deprecated, use `learning_rate` instead.\")\n"
          ],
          "name": "stderr"
        }
      ]
    },
    {
      "cell_type": "code",
      "metadata": {
        "colab": {
          "base_uri": "https://localhost:8080/"
        },
        "id": "QeQFLYu1V9io",
        "outputId": "8a74f491-189a-4a49-d445-816464cf6761"
      },
      "source": [
        "model_history = model.fit(X_train, y_train, epochs=20, validation_data=(X_valid, y_valid))"
      ],
      "execution_count": 20,
      "outputs": [
        {
          "output_type": "stream",
          "text": [
            "Epoch 1/20\n",
            "363/363 [==============================] - 1s 2ms/step - loss: 0.3949 - mae: 0.4489 - val_loss: 0.3695 - val_mae: 0.4322\n",
            "Epoch 2/20\n",
            "363/363 [==============================] - 1s 1ms/step - loss: 0.3922 - mae: 0.4469 - val_loss: 0.3698 - val_mae: 0.4350\n",
            "Epoch 3/20\n",
            "363/363 [==============================] - 1s 1ms/step - loss: 0.3898 - mae: 0.4461 - val_loss: 0.3647 - val_mae: 0.4285\n",
            "Epoch 4/20\n",
            "363/363 [==============================] - 1s 2ms/step - loss: 0.3873 - mae: 0.4439 - val_loss: 0.3632 - val_mae: 0.4309\n",
            "Epoch 5/20\n",
            "363/363 [==============================] - 1s 2ms/step - loss: 0.3851 - mae: 0.4426 - val_loss: 0.3607 - val_mae: 0.4276\n",
            "Epoch 6/20\n",
            "363/363 [==============================] - 1s 2ms/step - loss: 0.3829 - mae: 0.4415 - val_loss: 0.3586 - val_mae: 0.4247\n",
            "Epoch 7/20\n",
            "363/363 [==============================] - 1s 2ms/step - loss: 0.3808 - mae: 0.4398 - val_loss: 0.3563 - val_mae: 0.4240\n",
            "Epoch 8/20\n",
            "363/363 [==============================] - 1s 2ms/step - loss: 0.3788 - mae: 0.4385 - val_loss: 0.3559 - val_mae: 0.4228\n",
            "Epoch 9/20\n",
            "363/363 [==============================] - 1s 2ms/step - loss: 0.3768 - mae: 0.4375 - val_loss: 0.3549 - val_mae: 0.4208\n",
            "Epoch 10/20\n",
            "363/363 [==============================] - 0s 1ms/step - loss: 0.3749 - mae: 0.4359 - val_loss: 0.3526 - val_mae: 0.4193\n",
            "Epoch 11/20\n",
            "363/363 [==============================] - 1s 1ms/step - loss: 0.3732 - mae: 0.4347 - val_loss: 0.3495 - val_mae: 0.4198\n",
            "Epoch 12/20\n",
            "363/363 [==============================] - 1s 1ms/step - loss: 0.3715 - mae: 0.4336 - val_loss: 0.3549 - val_mae: 0.4194\n",
            "Epoch 13/20\n",
            "363/363 [==============================] - 1s 1ms/step - loss: 0.3700 - mae: 0.4327 - val_loss: 0.3515 - val_mae: 0.4206\n",
            "Epoch 14/20\n",
            "363/363 [==============================] - 0s 1ms/step - loss: 0.3684 - mae: 0.4315 - val_loss: 0.3468 - val_mae: 0.4187\n",
            "Epoch 15/20\n",
            "363/363 [==============================] - 1s 2ms/step - loss: 0.3671 - mae: 0.4307 - val_loss: 0.3674 - val_mae: 0.4211\n",
            "Epoch 16/20\n",
            "363/363 [==============================] - 1s 2ms/step - loss: 0.3659 - mae: 0.4305 - val_loss: 0.3437 - val_mae: 0.4162\n",
            "Epoch 17/20\n",
            "363/363 [==============================] - 1s 2ms/step - loss: 0.3648 - mae: 0.4294 - val_loss: 0.3583 - val_mae: 0.4170\n",
            "Epoch 18/20\n",
            "363/363 [==============================] - 0s 1ms/step - loss: 0.3635 - mae: 0.4284 - val_loss: 0.3507 - val_mae: 0.4146\n",
            "Epoch 19/20\n",
            "363/363 [==============================] - 1s 2ms/step - loss: 0.3622 - mae: 0.4272 - val_loss: 0.3451 - val_mae: 0.4143\n",
            "Epoch 20/20\n",
            "363/363 [==============================] - 1s 1ms/step - loss: 0.3613 - mae: 0.4269 - val_loss: 0.3852 - val_mae: 0.4192\n"
          ],
          "name": "stdout"
        }
      ]
    },
    {
      "cell_type": "code",
      "metadata": {
        "colab": {
          "base_uri": "https://localhost:8080/"
        },
        "id": "Rar2XxIlWThw",
        "outputId": "a81c4d6a-9db1-45b5-da02-fae3fc62fd15"
      },
      "source": [
        "mae_test = model.evaluate(X_test, y_test)"
      ],
      "execution_count": 21,
      "outputs": [
        {
          "output_type": "stream",
          "text": [
            "162/162 [==============================] - 0s 989us/step - loss: 0.3596 - mae: 0.4269\n"
          ],
          "name": "stdout"
        }
      ]
    },
    {
      "cell_type": "code",
      "metadata": {
        "colab": {
          "base_uri": "https://localhost:8080/"
        },
        "id": "TvQmcmnwWhbG",
        "outputId": "72e02363-3dd9-4ec4-ffb2-c3e58dc231cb"
      },
      "source": [
        "model_history.history"
      ],
      "execution_count": 18,
      "outputs": [
        {
          "output_type": "execute_result",
          "data": {
            "text/plain": [
              "{'loss': [1.8866394758224487,\n",
              "  0.6577127575874329,\n",
              "  0.5934185981750488,\n",
              "  0.5557191371917725,\n",
              "  0.5271905064582825,\n",
              "  0.5032976269721985,\n",
              "  0.48535558581352234,\n",
              "  0.47091808915138245,\n",
              "  0.45779934525489807,\n",
              "  0.4474469721317291,\n",
              "  0.4393136501312256,\n",
              "  0.43176087737083435,\n",
              "  0.4260515868663788,\n",
              "  0.42017653584480286,\n",
              "  0.41549986600875854,\n",
              "  0.4111650586128235,\n",
              "  0.4077068567276001,\n",
              "  0.40395283699035645,\n",
              "  0.4004494547843933,\n",
              "  0.3979603350162506],\n",
              " 'mae': [0.9900256991386414,\n",
              "  0.6041510701179504,\n",
              "  0.5618005990982056,\n",
              "  0.5398454070091248,\n",
              "  0.5237294435501099,\n",
              "  0.5112562775611877,\n",
              "  0.5010153651237488,\n",
              "  0.492448091506958,\n",
              "  0.4857262372970581,\n",
              "  0.4797375202178955,\n",
              "  0.4744163453578949,\n",
              "  0.4703480303287506,\n",
              "  0.46740880608558655,\n",
              "  0.46360209584236145,\n",
              "  0.4612663984298706,\n",
              "  0.4591343402862549,\n",
              "  0.4568699896335602,\n",
              "  0.45453643798828125,\n",
              "  0.4521065056324005,\n",
              "  0.45083147287368774],\n",
              " 'val_loss': [0.7126055359840393,\n",
              "  0.6880088448524475,\n",
              "  0.5803287029266357,\n",
              "  0.5166085362434387,\n",
              "  0.4895075559616089,\n",
              "  0.4950792193412781,\n",
              "  0.48612523078918457,\n",
              "  0.4553801119327545,\n",
              "  0.44133704900741577,\n",
              "  0.43786388635635376,\n",
              "  0.4396442770957947,\n",
              "  0.4506688117980957,\n",
              "  0.39972352981567383,\n",
              "  0.3955893814563751,\n",
              "  0.3915725350379944,\n",
              "  0.39368298649787903,\n",
              "  0.38094857335090637,\n",
              "  0.379347562789917,\n",
              "  0.3850174844264984,\n",
              "  0.380946546792984],\n",
              " 'val_mae': [0.6368112564086914,\n",
              "  0.5703656673431396,\n",
              "  0.5351505279541016,\n",
              "  0.5206614136695862,\n",
              "  0.5022227168083191,\n",
              "  0.4933752119541168,\n",
              "  0.4838489592075348,\n",
              "  0.4752774238586426,\n",
              "  0.46705934405326843,\n",
              "  0.46234601736068726,\n",
              "  0.4637792110443115,\n",
              "  0.4572650194168091,\n",
              "  0.45166537165641785,\n",
              "  0.4496610462665558,\n",
              "  0.4463699758052826,\n",
              "  0.4444962441921234,\n",
              "  0.43897414207458496,\n",
              "  0.43681108951568604,\n",
              "  0.4369050860404968,\n",
              "  0.43676161766052246]}"
            ]
          },
          "metadata": {
            "tags": []
          },
          "execution_count": 18
        }
      ]
    },
    {
      "cell_type": "code",
      "metadata": {
        "colab": {
          "base_uri": "https://localhost:8080/",
          "height": 324
        },
        "id": "T8tqDfOJWp-f",
        "outputId": "4800fc02-9e68-454b-e465-7f7ee9a6c15d"
      },
      "source": [
        "pd.DataFrame(model_history.history).plot(figsize=(8, 5))\n",
        "plt.grid(True)\n",
        "plt.gca().set_ylim(0, 1)\n",
        "\n",
        "plt.show()"
      ],
      "execution_count": 22,
      "outputs": [
        {
          "output_type": "display_data",
          "data": {
            "image/png": "[encoded data removed]",
            "text/plain": [
              "<Figure size 576x360 with 1 Axes>"
            ]
          },
          "metadata": {
            "tags": [],
            "needs_background": "light"
          }
        }
      ]
    },
    {
      "cell_type": "code",
      "metadata": {
        "id": "h_Hvk-HuWwLf"
      },
      "source": [
        "X_new = X_test[:3]"
      ],
      "execution_count": 23,
      "outputs": []
    },
    {
      "cell_type": "code",
      "metadata": {
        "colab": {
          "base_uri": "https://localhost:8080/"
        },
        "id": "Sac_e3LjXn6w",
        "outputId": "84a929fc-a051-48dc-8c52-dbae3730523b"
      },
      "source": [
        "y_pred = model.predict(X_new)\n",
        "print (y_pred)\n",
        "print(y_test[:3])"
      ],
      "execution_count": 24,
      "outputs": [
        {
          "output_type": "stream",
          "text": [
            "[[0.60718524]\n",
            " [1.8601749 ]\n",
            " [3.7925045 ]]\n",
            "[0.477   0.458   5.00001]\n"
          ],
          "name": "stdout"
        }
      ]
    }
  ]
}